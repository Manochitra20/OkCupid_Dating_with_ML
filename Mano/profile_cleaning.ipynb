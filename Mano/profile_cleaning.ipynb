{
 "cells": [
  {
   "cell_type": "code",
   "execution_count": 91,
   "id": "d537590a",
   "metadata": {},
   "outputs": [],
   "source": [
    "import seaborn as sns\n",
    "import numpy as np\n",
    "import matplotlib.pyplot as plt\n",
    "import pandas as pd\n",
    "import warnings\n",
    "warnings.filterwarnings(\"ignore\")"
   ]
  },
  {
   "cell_type": "code",
   "execution_count": 125,
   "id": "42052464",
   "metadata": {},
   "outputs": [
    {
     "data": {
      "text/plain": [
       "Index(['Unnamed: 0', 'age', 'body_type', 'diet', 'drinks', 'drugs',\n",
       "       'education', 'ethnicity', 'height', 'income', 'job', 'last_online',\n",
       "       'location', 'offspring', 'orientation', 'pets', 'religion', 'sex',\n",
       "       'sign', 'smokes', 'speaks', 'status', 'religion_cleaned',\n",
       "       'sign_cleaned'],\n",
       "      dtype='object')"
      ]
     },
     "execution_count": 125,
     "metadata": {},
     "output_type": "execute_result"
    }
   ],
   "source": [
    "# read in clean data file\n",
    "profile_df = pd.read_csv('../okcupid_cleaned_up.csv')\n",
    "profile_df.columns"
   ]
  },
  {
   "cell_type": "code",
   "execution_count": 126,
   "id": "7c30056f",
   "metadata": {},
   "outputs": [],
   "source": [
    "profile_df1= profile_df.drop(['Unnamed: 0'], axis = 1) "
   ]
  },
  {
   "cell_type": "code",
   "execution_count": 127,
   "id": "d27c324f",
   "metadata": {},
   "outputs": [
    {
     "data": {
      "text/plain": [
       "(59946, 23)"
      ]
     },
     "execution_count": 127,
     "metadata": {},
     "output_type": "execute_result"
    }
   ],
   "source": [
    "profile_df1.shape"
   ]
  },
  {
   "cell_type": "code",
   "execution_count": 128,
   "id": "d7ee38f5",
   "metadata": {
    "scrolled": true
   },
   "outputs": [],
   "source": [
    "# Add new binary column for gender\n",
    "#profile_df1[\"male\"] = np.where(profile_df1[\"sex\"]==\"m\", 1, 0)\n",
    "#profile_df1.drop(columns=\"sex\", inplace=True)\n",
    "#profile_df1.head()"
   ]
  },
  {
   "cell_type": "code",
   "execution_count": 129,
   "id": "4bc3fab8",
   "metadata": {},
   "outputs": [],
   "source": [
    "# replace seriousness of religion with religion X\n",
    "profile_df1['religion'] = profile_df1['religion'].replace({'agnosticism and very serious about it': 'agnosticism',\n",
    "'agnosticism but not too serious about it' : 'agnosticism', \n",
    "'agnosticism and somewhat serious about it': 'agnosticism',\n",
    "'agnosticism and laughing about it': 'agnosticism','agnosticism': 'agnostic',\n",
    "'atheism and laughing about it':'atheist',\n",
    "'atheism and somewhat serious about it': 'atheist', \n",
    "'atheism but not too serious about it': 'atheist', \n",
    "'atheism and very serious about it':'atheism', 'atheism': 'atheist'})"
   ]
  },
  {
   "cell_type": "code",
   "execution_count": 130,
   "id": "10f55602",
   "metadata": {},
   "outputs": [
    {
     "data": {
      "text/plain": [
       "0        religious\n",
       "1        religious\n",
       "2        religious\n",
       "3        religious\n",
       "4        religious\n",
       "           ...    \n",
       "59941    religious\n",
       "59942     agnostic\n",
       "59943    religious\n",
       "59944    religious\n",
       "59945    religious\n",
       "Name: religion, Length: 59946, dtype: object"
      ]
     },
     "execution_count": 130,
     "metadata": {},
     "output_type": "execute_result"
    }
   ],
   "source": [
    "for religion in profile_df1['religion'].unique():\n",
    "    if ((religion != 'atheist') and (religion != 'agnostic')):\n",
    "        profile_df1['religion'] = profile_df1['religion'].replace({religion: 'religious'})\n",
    "profile_df1.drop(columns=\"religion_cleaned\", inplace=True)\n",
    "profile_df1['religion']"
   ]
  },
  {
   "cell_type": "code",
   "execution_count": 131,
   "id": "0e4f8835",
   "metadata": {},
   "outputs": [],
   "source": [
    "#profile_df1['is_religious'] = np.where(profile_df1['religion'] == 'religious', 1, 0)\n",
    "#profile_df1['is_agnostic'] = np.where(profile_df1['religion'] == 'agnostic', 1, 0)\n",
    "#profile_df1['is_atheist'] = np.where(profile_df1['religion'] == 'atheist', 1, 0)"
   ]
  },
  {
   "cell_type": "code",
   "execution_count": 132,
   "id": "d5a2269f",
   "metadata": {},
   "outputs": [
    {
     "data": {
      "text/plain": [
       "religious    50807\n",
       "atheist       6415\n",
       "agnostic      2724\n",
       "Name: religion, dtype: int64"
      ]
     },
     "execution_count": 132,
     "metadata": {},
     "output_type": "execute_result"
    }
   ],
   "source": [
    "profile_df1['religion'].value_counts()"
   ]
  },
  {
   "cell_type": "code",
   "execution_count": 133,
   "id": "cbdfeb99",
   "metadata": {},
   "outputs": [
    {
     "data": {
      "text/plain": [
       "straight    51606\n",
       "gay          5573\n",
       "bisexual     2767\n",
       "Name: orientation, dtype: int64"
      ]
     },
     "execution_count": 133,
     "metadata": {},
     "output_type": "execute_result"
    }
   ],
   "source": [
    "profile_df1['orientation'].value_counts()"
   ]
  },
  {
   "cell_type": "code",
   "execution_count": 134,
   "id": "5f748971",
   "metadata": {},
   "outputs": [
    {
     "data": {
      "text/plain": [
       "average       14652\n",
       "fit           12711\n",
       "athletic      12240\n",
       "curvy          7562\n",
       "skinny         6488\n",
       "declined       5494\n",
       "overweight      799\n",
       "Name: body_type, dtype: int64"
      ]
     },
     "execution_count": 134,
     "metadata": {},
     "output_type": "execute_result"
    }
   ],
   "source": [
    "profile_df1['body_type'].value_counts()"
   ]
  },
  {
   "cell_type": "code",
   "execution_count": 181,
   "id": "4db4a212",
   "metadata": {},
   "outputs": [
    {
     "data": {
      "text/plain": [
       "average       14652\n",
       "fit           12711\n",
       "athletic      12240\n",
       "curvy          7562\n",
       "skinny         6488\n",
       "declined       5494\n",
       "overweight      799\n",
       "Name: body_type, dtype: int64"
      ]
     },
     "execution_count": 181,
     "metadata": {},
     "output_type": "execute_result"
    }
   ],
   "source": [
    "profile_df1['body_type'] = profile_df1['body_type'].replace({'declined': 'noanswerbodytype'})\n",
    "profile_df['body_type'].value_counts()"
   ]
  },
  {
   "cell_type": "code",
   "execution_count": 136,
   "id": "ea254b93",
   "metadata": {},
   "outputs": [
    {
     "data": {
      "text/plain": [
       "anything              28888\n",
       "declined to answer    24395\n",
       "vegetarian             4986\n",
       "other                   783\n",
       "vegan                   702\n",
       "kosher                  115\n",
       "halal                    77\n",
       "Name: diet, dtype: int64"
      ]
     },
     "execution_count": 136,
     "metadata": {},
     "output_type": "execute_result"
    }
   ],
   "source": [
    "profile_df1['diet'].value_counts()"
   ]
  },
  {
   "cell_type": "code",
   "execution_count": 137,
   "id": "bfedfed6",
   "metadata": {},
   "outputs": [
    {
     "data": {
      "text/plain": [
       "anything        28888\n",
       "noanswerdiet    24395\n",
       "vegetarian       4986\n",
       "other             783\n",
       "vegan             702\n",
       "kosher            115\n",
       "halal              77\n",
       "Name: diet, dtype: int64"
      ]
     },
     "execution_count": 137,
     "metadata": {},
     "output_type": "execute_result"
    }
   ],
   "source": [
    "profile_df1['diet'] = profile_df1['diet'].replace({\"declined to answer\": \"noanswerdiet\"})\n",
    "profile_df1['diet'].value_counts()"
   ]
  },
  {
   "cell_type": "code",
   "execution_count": 138,
   "id": "87e33fea",
   "metadata": {},
   "outputs": [
    {
     "data": {
      "text/plain": [
       "rarely                53372\n",
       "not at all             3267\n",
       "declined to answer     2985\n",
       "desperately             322\n",
       "Name: drinks, dtype: int64"
      ]
     },
     "execution_count": 138,
     "metadata": {},
     "output_type": "execute_result"
    }
   ],
   "source": [
    "profile_df1['drinks'].value_counts()"
   ]
  },
  {
   "cell_type": "code",
   "execution_count": 139,
   "id": "36c56b4c",
   "metadata": {},
   "outputs": [
    {
     "data": {
      "text/plain": [
       "rarely             53372\n",
       "drinks_no           3267\n",
       "noanswerdrinks      2985\n",
       "drinks socially      322\n",
       "Name: drinks, dtype: int64"
      ]
     },
     "execution_count": 139,
     "metadata": {},
     "output_type": "execute_result"
    }
   ],
   "source": [
    "profile_df1['drinks'] = profile_df1['drinks'].replace({'desperately': 'drinks socially',\n",
    "                                                      \"not at all\": \"drinks_no\",\n",
    "                                                      \"declined to answer\": \"noanswerdrinks\"})\n",
    "profile_df1['drinks'].value_counts()"
   ]
  },
  {
   "cell_type": "code",
   "execution_count": 140,
   "id": "97e7a60b",
   "metadata": {},
   "outputs": [
    {
     "data": {
      "text/plain": [
       "never                 37724\n",
       "declined to answer    14080\n",
       "sometimes              7732\n",
       "rarely                  410\n",
       "Name: drugs, dtype: int64"
      ]
     },
     "execution_count": 140,
     "metadata": {},
     "output_type": "execute_result"
    }
   ],
   "source": [
    "profile_df1['drugs'].value_counts()"
   ]
  },
  {
   "cell_type": "code",
   "execution_count": 166,
   "id": "497541da",
   "metadata": {},
   "outputs": [
    {
     "data": {
      "text/plain": [
       "drugs_no         37724\n",
       "noanswerdrugs    14080\n",
       "drugs_yes         7732\n",
       "rarely             410\n",
       "Name: drugs, dtype: int64"
      ]
     },
     "execution_count": 166,
     "metadata": {},
     "output_type": "execute_result"
    }
   ],
   "source": [
    "profile_df1['drugs'] = profile_df1['drugs'].replace({'never': 'drugs_no',\n",
    "                                                    'sometimes': 'drugs_yes',\n",
    "                                                    'declined to answer': 'noanswerdrugs'})\n",
    "profile_df1['drugs'].value_counts()"
   ]
  },
  {
   "cell_type": "code",
   "execution_count": 142,
   "id": "592e52da",
   "metadata": {},
   "outputs": [
    {
     "data": {
      "text/plain": [
       "no                    43896\n",
       "declined to answer     5512\n",
       "sometimes              3787\n",
       "when drinking          3040\n",
       "yes                    2231\n",
       "trying to quit         1480\n",
       "Name: smokes, dtype: int64"
      ]
     },
     "execution_count": 142,
     "metadata": {},
     "output_type": "execute_result"
    }
   ],
   "source": [
    "profile_df1['smokes'].value_counts()"
   ]
  },
  {
   "cell_type": "code",
   "execution_count": 143,
   "id": "703c0d88",
   "metadata": {},
   "outputs": [],
   "source": [
    "profile_df1['smokes'] = profile_df1['smokes'].replace({'sometimes': 'rarely',\n",
    "                                                      'when drinking': 'rarely',\n",
    "                                                      'trying to quit' : 'rarely',\n",
    "                                                      'declined to answer':'noanswersmokes'})\n"
   ]
  },
  {
   "cell_type": "code",
   "execution_count": 144,
   "id": "3cc0fecd",
   "metadata": {},
   "outputs": [
    {
     "data": {
      "text/plain": [
       "no                43896\n",
       "rarely             8307\n",
       "noanswersmokes     5512\n",
       "yes                2231\n",
       "Name: smokes, dtype: int64"
      ]
     },
     "execution_count": 144,
     "metadata": {},
     "output_type": "execute_result"
    }
   ],
   "source": [
    "profile_df1['smokes'].value_counts()"
   ]
  },
  {
   "cell_type": "code",
   "execution_count": null,
   "id": "38ed4d19",
   "metadata": {},
   "outputs": [],
   "source": []
  },
  {
   "cell_type": "code",
   "execution_count": 145,
   "id": "9a4dd1f1",
   "metadata": {},
   "outputs": [],
   "source": [
    "\n",
    "# replace graduation, working on, dropped out with just education X (for simplicity)\n",
    "profile_df1['education'] = profile_df1['education'].replace({'working on space camp': 'space camp', \n",
    "                                                             'working on college/university': 'college/university', \n",
    "                                                             'graduated from college/university': 'college/university',\n",
    "                                                             'graduated from high school': 'high school',\n",
    "                                                             'dropped out of space camp': 'space camp',\n",
    "                                                             'graduated from space camp': 'space camp',\n",
    "                                                             'graduated from law school': 'law school',\n",
    "                                                             'graduated from masters program': 'masters program',\n",
    "                                                             'graduated from two-year college': 'college/university',\n",
    "                                                             'working on med school': 'med school',\n",
    "                                                             'dropped out of high school': 'high school',\n",
    "                                                             'working on ph.d program': 'ph.d program',\n",
    "                                                             'graduated from ph.d program': 'ph.d program',\n",
    "                                                             'dropped out of college/university': 'college/university',\n",
    "                                                             'dropped out of two-year college': 'college/university',\n",
    "                                                             'dropped out of med school': 'med school',\n",
    "                                                             'working on masters program': 'masters program',\n",
    "                                                             'working on two-year college': 'college/university',\n",
    "                                                             'working on high school': 'high school',\n",
    "                                                             'graduated from med school': 'med school',\n",
    "                                                             'dropped out of masters program': 'masters program',\n",
    "                                                             'working on law school': 'law school',\n",
    "                                                             'dropped out of ph.d program': 'ph.d program',\n",
    "                                                             'dropped out of law school': 'law school',\n",
    "                                                             'two-year college' : 'college/university'})"
   ]
  },
  {
   "cell_type": "code",
   "execution_count": 146,
   "id": "9d0dadf2",
   "metadata": {},
   "outputs": [
    {
     "data": {
      "text/plain": [
       "college/university    27343\n",
       "declined to answer    17959\n",
       "masters program        9088\n",
       "high school            2614\n",
       "ph.d program           1272\n",
       "law school             1122\n",
       "med school              446\n",
       "middle school           102\n",
       "Name: education, dtype: int64"
      ]
     },
     "execution_count": 146,
     "metadata": {},
     "output_type": "execute_result"
    }
   ],
   "source": [
    "profile_df1['education'].value_counts()"
   ]
  },
  {
   "cell_type": "code",
   "execution_count": 167,
   "id": "29eef49e",
   "metadata": {},
   "outputs": [
    {
     "data": {
      "text/plain": [
       "college/university    27343\n",
       "noansweredu           17959\n",
       "masters program        9088\n",
       "high school            2614\n",
       "ph.d program           1272\n",
       "law school             1122\n",
       "med school              446\n",
       "middle school           102\n",
       "Name: education, dtype: int64"
      ]
     },
     "execution_count": 167,
     "metadata": {},
     "output_type": "execute_result"
    }
   ],
   "source": [
    "profile_df1['education'] = profile_df1['education'].replace({\"declined to answer\": \"noansweredu\"})\n",
    "profile_df1['education'].value_counts()"
   ]
  },
  {
   "cell_type": "code",
   "execution_count": 147,
   "id": "0acbd91f",
   "metadata": {},
   "outputs": [
    {
     "data": {
      "text/plain": [
       "0          asian,\n",
       "1           white\n",
       "2        declined\n",
       "3           white\n",
       "4          asian,\n",
       "           ...   \n",
       "59941    declined\n",
       "59942      white,\n",
       "59943       asian\n",
       "59944      asian,\n",
       "59945       white\n",
       "Name: ethnicity, Length: 59946, dtype: object"
      ]
     },
     "execution_count": 147,
     "metadata": {},
     "output_type": "execute_result"
    }
   ],
   "source": [
    "profile_df1['ethnicity'] = profile_df1.ethnicity.str.split().str.get(0)\n",
    "profile_df1['ethnicity']"
   ]
  },
  {
   "cell_type": "code",
   "execution_count": 148,
   "id": "0dc3f961",
   "metadata": {},
   "outputs": [
    {
     "data": {
      "text/plain": [
       "white       32831\n",
       "asian        6134\n",
       "declined     5680\n",
       "hispanic     4379\n",
       "asian,       2071\n",
       "black        2008\n",
       "other        1706\n",
       "indian       1077\n",
       "black,       1063\n",
       "middle        811\n",
       "pacific       717\n",
       "native        709\n",
       "white,        641\n",
       "indian,       119\n",
       "Name: ethnicity, dtype: int64"
      ]
     },
     "execution_count": 148,
     "metadata": {},
     "output_type": "execute_result"
    }
   ],
   "source": [
    "profile_df1['ethnicity'].value_counts()"
   ]
  },
  {
   "cell_type": "code",
   "execution_count": 149,
   "id": "a29c31cf",
   "metadata": {},
   "outputs": [],
   "source": [
    "profile_df1['ethnicity'] = profile_df1['ethnicity'].replace({'asian,': 'asian',\n",
    "                                                            'black,': 'black',\n",
    "                                                            'white,' : 'white',\n",
    "                                                            'indian,': 'indian',\n",
    "                                                            'middle':'middle-eastern',\n",
    "                                                            'hispanic':'hispanic-latin',\n",
    "                                                            'pacific':'pacific_islander',\n",
    "                                                            'native': 'native_american',\n",
    "                                                            'declined': 'noanswerethnicity'})\n"
   ]
  },
  {
   "cell_type": "code",
   "execution_count": 150,
   "id": "668804d1",
   "metadata": {},
   "outputs": [
    {
     "data": {
      "text/plain": [
       "white                33472\n",
       "asian                 8205\n",
       "noanswerethnicity     5680\n",
       "hispanic-latin        4379\n",
       "black                 3071\n",
       "other                 1706\n",
       "indian                1196\n",
       "middle-eastern         811\n",
       "pacific_islander       717\n",
       "native_american        709\n",
       "Name: ethnicity, dtype: int64"
      ]
     },
     "execution_count": 150,
     "metadata": {},
     "output_type": "execute_result"
    }
   ],
   "source": [
    "profile_df1['ethnicity'].value_counts()"
   ]
  },
  {
   "cell_type": "code",
   "execution_count": 151,
   "id": "96b01d01",
   "metadata": {},
   "outputs": [
    {
     "data": {
      "text/plain": [
       "declined to answer                   16223\n",
       "student                               4882\n",
       "science / tech / engineering          4848\n",
       "computer / hardware / software        4709\n",
       "artistic / musical / writer           4439\n",
       "sales / marketing / biz dev           4391\n",
       "medicine / health                     3680\n",
       "education / academia                  3513\n",
       "executive / management                2373\n",
       "banking / financial / real estate     2266\n",
       "entertainment / media                 2250\n",
       "law / legal services                  1381\n",
       "hospitality / travel                  1364\n",
       "construction / craftsmanship          1021\n",
       "clerical / administrative              805\n",
       "political / government                 708\n",
       "transportation                         366\n",
       "unemployed                             273\n",
       "retired                                250\n",
       "military                               204\n",
       "Name: job, dtype: int64"
      ]
     },
     "execution_count": 151,
     "metadata": {},
     "output_type": "execute_result"
    }
   ],
   "source": [
    "profile_df1['job'].value_counts()"
   ]
  },
  {
   "cell_type": "code",
   "execution_count": 152,
   "id": "e53ad731",
   "metadata": {},
   "outputs": [
    {
     "data": {
      "text/plain": [
       "noanswerjob                          16223\n",
       "student                               4882\n",
       "science / tech / engineering          4848\n",
       "computer / hardware / software        4709\n",
       "artistic / musical / writer           4439\n",
       "sales / marketing / biz dev           4391\n",
       "medicine / health                     3680\n",
       "education / academia                  3513\n",
       "executive / management                2373\n",
       "banking / financial / real estate     2266\n",
       "entertainment / media                 2250\n",
       "law / legal services                  1381\n",
       "hospitality / travel                  1364\n",
       "construction / craftsmanship          1021\n",
       "clerical / administrative              805\n",
       "political / government                 708\n",
       "transportation                         366\n",
       "unemployed                             273\n",
       "retired                                250\n",
       "military                               204\n",
       "Name: job, dtype: int64"
      ]
     },
     "execution_count": 152,
     "metadata": {},
     "output_type": "execute_result"
    }
   ],
   "source": [
    "profile_df1['job'] = profile_df1['job'].replace({\"declined to answer\": \"noanswerjob\"})\n",
    "profile_df1['job'].value_counts()"
   ]
  },
  {
   "cell_type": "code",
   "execution_count": 153,
   "id": "577b3d18",
   "metadata": {},
   "outputs": [
    {
     "data": {
      "text/plain": [
       "declined       11056\n",
       "leo             4374\n",
       "gemini          4310\n",
       "libra           4207\n",
       "cancer          4206\n",
       "virgo           4141\n",
       "taurus          4140\n",
       "scorpio         4134\n",
       "aries           3989\n",
       "pisces          3946\n",
       "sagittarius     3942\n",
       "aquarius        3928\n",
       "capricorn       3573\n",
       "Name: sign_cleaned, dtype: int64"
      ]
     },
     "execution_count": 153,
     "metadata": {},
     "output_type": "execute_result"
    }
   ],
   "source": [
    "profile_df1['sign_cleaned'].value_counts()"
   ]
  },
  {
   "cell_type": "code",
   "execution_count": 176,
   "id": "20148349",
   "metadata": {},
   "outputs": [
    {
     "data": {
      "text/plain": [
       "0         273\n",
       "63397       6\n",
       "32337       6\n",
       "19001       5\n",
       "39161       4\n",
       "         ... \n",
       "128766      1\n",
       "80546       1\n",
       "60944       1\n",
       "178163      1\n",
       "100804      1\n",
       "Name: income, Length: 50707, dtype: int64"
      ]
     },
     "execution_count": 176,
     "metadata": {},
     "output_type": "execute_result"
    }
   ],
   "source": [
    "profile_df1['income'].value_counts()"
   ]
  },
  {
   "cell_type": "code",
   "execution_count": 168,
   "id": "cdb3e11b",
   "metadata": {},
   "outputs": [
    {
     "data": {
      "text/html": [
       "<div>\n",
       "<style scoped>\n",
       "    .dataframe tbody tr th:only-of-type {\n",
       "        vertical-align: middle;\n",
       "    }\n",
       "\n",
       "    .dataframe tbody tr th {\n",
       "        vertical-align: top;\n",
       "    }\n",
       "\n",
       "    .dataframe thead th {\n",
       "        text-align: right;\n",
       "    }\n",
       "</style>\n",
       "<table border=\"1\" class=\"dataframe\">\n",
       "  <thead>\n",
       "    <tr style=\"text-align: right;\">\n",
       "      <th></th>\n",
       "      <th>age</th>\n",
       "      <th>body_type</th>\n",
       "      <th>diet</th>\n",
       "      <th>drinks</th>\n",
       "      <th>drugs</th>\n",
       "      <th>education</th>\n",
       "      <th>ethnicity</th>\n",
       "      <th>height</th>\n",
       "      <th>income</th>\n",
       "      <th>job</th>\n",
       "      <th>...</th>\n",
       "      <th>offspring</th>\n",
       "      <th>orientation</th>\n",
       "      <th>pets</th>\n",
       "      <th>religion</th>\n",
       "      <th>sex</th>\n",
       "      <th>sign</th>\n",
       "      <th>smokes</th>\n",
       "      <th>speaks</th>\n",
       "      <th>status</th>\n",
       "      <th>sign_cleaned</th>\n",
       "    </tr>\n",
       "  </thead>\n",
       "  <tbody>\n",
       "    <tr>\n",
       "      <th>0</th>\n",
       "      <td>22</td>\n",
       "      <td>curvy</td>\n",
       "      <td>anything</td>\n",
       "      <td>rarely</td>\n",
       "      <td>drugs_no</td>\n",
       "      <td>noansweredu</td>\n",
       "      <td>asian</td>\n",
       "      <td>75.0</td>\n",
       "      <td>29592</td>\n",
       "      <td>transportation</td>\n",
       "      <td>...</td>\n",
       "      <td>does not have kids, but might want them</td>\n",
       "      <td>straight</td>\n",
       "      <td>likes dogs and likes cats</td>\n",
       "      <td>religious</td>\n",
       "      <td>m</td>\n",
       "      <td>gemini</td>\n",
       "      <td>rarely</td>\n",
       "      <td>english</td>\n",
       "      <td>single</td>\n",
       "      <td>gemini</td>\n",
       "    </tr>\n",
       "    <tr>\n",
       "      <th>1</th>\n",
       "      <td>35</td>\n",
       "      <td>average</td>\n",
       "      <td>anything</td>\n",
       "      <td>rarely</td>\n",
       "      <td>drugs_yes</td>\n",
       "      <td>college/university</td>\n",
       "      <td>white</td>\n",
       "      <td>70.0</td>\n",
       "      <td>48630</td>\n",
       "      <td>hospitality / travel</td>\n",
       "      <td>...</td>\n",
       "      <td>does not have kids, but might want them</td>\n",
       "      <td>straight</td>\n",
       "      <td>likes dogs and likes cats</td>\n",
       "      <td>religious</td>\n",
       "      <td>m</td>\n",
       "      <td>cancer</td>\n",
       "      <td>no</td>\n",
       "      <td>english (fluently), spanish (poorly), french (...</td>\n",
       "      <td>single</td>\n",
       "      <td>cancer</td>\n",
       "    </tr>\n",
       "    <tr>\n",
       "      <th>2</th>\n",
       "      <td>38</td>\n",
       "      <td>skinny</td>\n",
       "      <td>anything</td>\n",
       "      <td>rarely</td>\n",
       "      <td>noanswerdrugs</td>\n",
       "      <td>masters program</td>\n",
       "      <td>noanswerethnicity</td>\n",
       "      <td>68.0</td>\n",
       "      <td>60812</td>\n",
       "      <td>noanswerjob</td>\n",
       "      <td>...</td>\n",
       "      <td>declined to answer</td>\n",
       "      <td>straight</td>\n",
       "      <td>has cats</td>\n",
       "      <td>religious</td>\n",
       "      <td>m</td>\n",
       "      <td>pisces but it doesn&amp;rsquo;t matter</td>\n",
       "      <td>no</td>\n",
       "      <td>english, french, c++</td>\n",
       "      <td>available</td>\n",
       "      <td>pisces</td>\n",
       "    </tr>\n",
       "    <tr>\n",
       "      <th>3</th>\n",
       "      <td>23</td>\n",
       "      <td>skinny</td>\n",
       "      <td>vegetarian</td>\n",
       "      <td>rarely</td>\n",
       "      <td>noanswerdrugs</td>\n",
       "      <td>noansweredu</td>\n",
       "      <td>white</td>\n",
       "      <td>71.0</td>\n",
       "      <td>18578</td>\n",
       "      <td>student</td>\n",
       "      <td>...</td>\n",
       "      <td>does not want kids</td>\n",
       "      <td>straight</td>\n",
       "      <td>likes cats</td>\n",
       "      <td>religious</td>\n",
       "      <td>m</td>\n",
       "      <td>pisces</td>\n",
       "      <td>no</td>\n",
       "      <td>english, german (poorly)</td>\n",
       "      <td>single</td>\n",
       "      <td>pisces</td>\n",
       "    </tr>\n",
       "    <tr>\n",
       "      <th>4</th>\n",
       "      <td>29</td>\n",
       "      <td>athletic</td>\n",
       "      <td>noanswerdiet</td>\n",
       "      <td>rarely</td>\n",
       "      <td>drugs_no</td>\n",
       "      <td>college/university</td>\n",
       "      <td>asian</td>\n",
       "      <td>66.0</td>\n",
       "      <td>94691</td>\n",
       "      <td>artistic / musical / writer</td>\n",
       "      <td>...</td>\n",
       "      <td>declined to answer</td>\n",
       "      <td>straight</td>\n",
       "      <td>likes dogs and likes cats</td>\n",
       "      <td>religious</td>\n",
       "      <td>m</td>\n",
       "      <td>aquarius</td>\n",
       "      <td>no</td>\n",
       "      <td>english</td>\n",
       "      <td>single</td>\n",
       "      <td>aquarius</td>\n",
       "    </tr>\n",
       "    <tr>\n",
       "      <th>...</th>\n",
       "      <td>...</td>\n",
       "      <td>...</td>\n",
       "      <td>...</td>\n",
       "      <td>...</td>\n",
       "      <td>...</td>\n",
       "      <td>...</td>\n",
       "      <td>...</td>\n",
       "      <td>...</td>\n",
       "      <td>...</td>\n",
       "      <td>...</td>\n",
       "      <td>...</td>\n",
       "      <td>...</td>\n",
       "      <td>...</td>\n",
       "      <td>...</td>\n",
       "      <td>...</td>\n",
       "      <td>...</td>\n",
       "      <td>...</td>\n",
       "      <td>...</td>\n",
       "      <td>...</td>\n",
       "      <td>...</td>\n",
       "      <td>...</td>\n",
       "    </tr>\n",
       "    <tr>\n",
       "      <th>59941</th>\n",
       "      <td>59</td>\n",
       "      <td>noanswerbodytype</td>\n",
       "      <td>noanswerdiet</td>\n",
       "      <td>rarely</td>\n",
       "      <td>drugs_no</td>\n",
       "      <td>college/university</td>\n",
       "      <td>noanswerethnicity</td>\n",
       "      <td>62.0</td>\n",
       "      <td>16612</td>\n",
       "      <td>sales / marketing / biz dev</td>\n",
       "      <td>...</td>\n",
       "      <td>has kids</td>\n",
       "      <td>straight</td>\n",
       "      <td>has dogs</td>\n",
       "      <td>religious</td>\n",
       "      <td>f</td>\n",
       "      <td>cancer and it&amp;rsquo;s fun to think about</td>\n",
       "      <td>no</td>\n",
       "      <td>english</td>\n",
       "      <td>single</td>\n",
       "      <td>cancer</td>\n",
       "    </tr>\n",
       "    <tr>\n",
       "      <th>59942</th>\n",
       "      <td>24</td>\n",
       "      <td>fit</td>\n",
       "      <td>anything</td>\n",
       "      <td>rarely</td>\n",
       "      <td>drugs_yes</td>\n",
       "      <td>noansweredu</td>\n",
       "      <td>white</td>\n",
       "      <td>72.0</td>\n",
       "      <td>118254</td>\n",
       "      <td>entertainment / media</td>\n",
       "      <td>...</td>\n",
       "      <td>does not have kids</td>\n",
       "      <td>straight</td>\n",
       "      <td>likes dogs and likes cats</td>\n",
       "      <td>agnostic</td>\n",
       "      <td>m</td>\n",
       "      <td>leo but it doesn&amp;rsquo;t matter</td>\n",
       "      <td>no</td>\n",
       "      <td>english (fluently)</td>\n",
       "      <td>single</td>\n",
       "      <td>leo</td>\n",
       "    </tr>\n",
       "    <tr>\n",
       "      <th>59943</th>\n",
       "      <td>42</td>\n",
       "      <td>average</td>\n",
       "      <td>anything</td>\n",
       "      <td>drinks_no</td>\n",
       "      <td>drugs_no</td>\n",
       "      <td>masters program</td>\n",
       "      <td>asian</td>\n",
       "      <td>71.0</td>\n",
       "      <td>42318</td>\n",
       "      <td>construction / craftsmanship</td>\n",
       "      <td>...</td>\n",
       "      <td>does not have kids</td>\n",
       "      <td>straight</td>\n",
       "      <td>declined to answer</td>\n",
       "      <td>religious</td>\n",
       "      <td>m</td>\n",
       "      <td>sagittarius but it doesn&amp;rsquo;t matter</td>\n",
       "      <td>no</td>\n",
       "      <td>english (fluently)</td>\n",
       "      <td>single</td>\n",
       "      <td>sagittarius</td>\n",
       "    </tr>\n",
       "    <tr>\n",
       "      <th>59944</th>\n",
       "      <td>27</td>\n",
       "      <td>athletic</td>\n",
       "      <td>anything</td>\n",
       "      <td>rarely</td>\n",
       "      <td>rarely</td>\n",
       "      <td>noansweredu</td>\n",
       "      <td>asian</td>\n",
       "      <td>73.0</td>\n",
       "      <td>218886</td>\n",
       "      <td>medicine / health</td>\n",
       "      <td>...</td>\n",
       "      <td>does not have kids, but wants them</td>\n",
       "      <td>straight</td>\n",
       "      <td>likes dogs and likes cats</td>\n",
       "      <td>religious</td>\n",
       "      <td>m</td>\n",
       "      <td>leo and it&amp;rsquo;s fun to think about</td>\n",
       "      <td>rarely</td>\n",
       "      <td>english (fluently), spanish (poorly), chinese ...</td>\n",
       "      <td>single</td>\n",
       "      <td>leo</td>\n",
       "    </tr>\n",
       "    <tr>\n",
       "      <th>59945</th>\n",
       "      <td>39</td>\n",
       "      <td>average</td>\n",
       "      <td>noanswerdiet</td>\n",
       "      <td>rarely</td>\n",
       "      <td>noanswerdrugs</td>\n",
       "      <td>masters program</td>\n",
       "      <td>white</td>\n",
       "      <td>68.0</td>\n",
       "      <td>100804</td>\n",
       "      <td>medicine / health</td>\n",
       "      <td>...</td>\n",
       "      <td>declined to answer</td>\n",
       "      <td>gay</td>\n",
       "      <td>likes dogs and likes cats</td>\n",
       "      <td>religious</td>\n",
       "      <td>m</td>\n",
       "      <td>gemini and it&amp;rsquo;s fun to think about</td>\n",
       "      <td>rarely</td>\n",
       "      <td>english</td>\n",
       "      <td>single</td>\n",
       "      <td>gemini</td>\n",
       "    </tr>\n",
       "  </tbody>\n",
       "</table>\n",
       "<p>59946 rows × 22 columns</p>\n",
       "</div>"
      ],
      "text/plain": [
       "       age         body_type          diet     drinks          drugs  \\\n",
       "0       22             curvy      anything     rarely       drugs_no   \n",
       "1       35           average      anything     rarely      drugs_yes   \n",
       "2       38            skinny      anything     rarely  noanswerdrugs   \n",
       "3       23            skinny    vegetarian     rarely  noanswerdrugs   \n",
       "4       29          athletic  noanswerdiet     rarely       drugs_no   \n",
       "...    ...               ...           ...        ...            ...   \n",
       "59941   59  noanswerbodytype  noanswerdiet     rarely       drugs_no   \n",
       "59942   24               fit      anything     rarely      drugs_yes   \n",
       "59943   42           average      anything  drinks_no       drugs_no   \n",
       "59944   27          athletic      anything     rarely         rarely   \n",
       "59945   39           average  noanswerdiet     rarely  noanswerdrugs   \n",
       "\n",
       "                education          ethnicity height  income  \\\n",
       "0             noansweredu              asian   75.0   29592   \n",
       "1      college/university              white   70.0   48630   \n",
       "2         masters program  noanswerethnicity   68.0   60812   \n",
       "3             noansweredu              white   71.0   18578   \n",
       "4      college/university              asian   66.0   94691   \n",
       "...                   ...                ...    ...     ...   \n",
       "59941  college/university  noanswerethnicity   62.0   16612   \n",
       "59942         noansweredu              white   72.0  118254   \n",
       "59943     masters program              asian   71.0   42318   \n",
       "59944         noansweredu              asian   73.0  218886   \n",
       "59945     masters program              white   68.0  100804   \n",
       "\n",
       "                                job  ...  \\\n",
       "0                    transportation  ...   \n",
       "1              hospitality / travel  ...   \n",
       "2                       noanswerjob  ...   \n",
       "3                           student  ...   \n",
       "4       artistic / musical / writer  ...   \n",
       "...                             ...  ...   \n",
       "59941   sales / marketing / biz dev  ...   \n",
       "59942         entertainment / media  ...   \n",
       "59943  construction / craftsmanship  ...   \n",
       "59944             medicine / health  ...   \n",
       "59945             medicine / health  ...   \n",
       "\n",
       "                                     offspring orientation  \\\n",
       "0      does not have kids, but might want them    straight   \n",
       "1      does not have kids, but might want them    straight   \n",
       "2                           declined to answer    straight   \n",
       "3                           does not want kids    straight   \n",
       "4                           declined to answer    straight   \n",
       "...                                        ...         ...   \n",
       "59941                                 has kids    straight   \n",
       "59942                       does not have kids    straight   \n",
       "59943                       does not have kids    straight   \n",
       "59944       does not have kids, but wants them    straight   \n",
       "59945                       declined to answer         gay   \n",
       "\n",
       "                            pets   religion sex  \\\n",
       "0      likes dogs and likes cats  religious   m   \n",
       "1      likes dogs and likes cats  religious   m   \n",
       "2                       has cats  religious   m   \n",
       "3                     likes cats  religious   m   \n",
       "4      likes dogs and likes cats  religious   m   \n",
       "...                          ...        ...  ..   \n",
       "59941                   has dogs  religious   f   \n",
       "59942  likes dogs and likes cats   agnostic   m   \n",
       "59943         declined to answer  religious   m   \n",
       "59944  likes dogs and likes cats  religious   m   \n",
       "59945  likes dogs and likes cats  religious   m   \n",
       "\n",
       "                                           sign  smokes  \\\n",
       "0                                        gemini  rarely   \n",
       "1                                        cancer      no   \n",
       "2            pisces but it doesn&rsquo;t matter      no   \n",
       "3                                        pisces      no   \n",
       "4                                      aquarius      no   \n",
       "...                                         ...     ...   \n",
       "59941  cancer and it&rsquo;s fun to think about      no   \n",
       "59942           leo but it doesn&rsquo;t matter      no   \n",
       "59943   sagittarius but it doesn&rsquo;t matter      no   \n",
       "59944     leo and it&rsquo;s fun to think about  rarely   \n",
       "59945  gemini and it&rsquo;s fun to think about  rarely   \n",
       "\n",
       "                                                  speaks     status  \\\n",
       "0                                                english     single   \n",
       "1      english (fluently), spanish (poorly), french (...     single   \n",
       "2                                   english, french, c++  available   \n",
       "3                               english, german (poorly)     single   \n",
       "4                                                english     single   \n",
       "...                                                  ...        ...   \n",
       "59941                                            english     single   \n",
       "59942                                 english (fluently)     single   \n",
       "59943                                 english (fluently)     single   \n",
       "59944  english (fluently), spanish (poorly), chinese ...     single   \n",
       "59945                                            english     single   \n",
       "\n",
       "      sign_cleaned  \n",
       "0           gemini  \n",
       "1           cancer  \n",
       "2           pisces  \n",
       "3           pisces  \n",
       "4         aquarius  \n",
       "...            ...  \n",
       "59941       cancer  \n",
       "59942          leo  \n",
       "59943  sagittarius  \n",
       "59944          leo  \n",
       "59945       gemini  \n",
       "\n",
       "[59946 rows x 22 columns]"
      ]
     },
     "execution_count": 168,
     "metadata": {},
     "output_type": "execute_result"
    }
   ],
   "source": [
    "profile_df1"
   ]
  },
  {
   "cell_type": "code",
   "execution_count": 169,
   "id": "714ea5a6",
   "metadata": {},
   "outputs": [
    {
     "data": {
      "text/plain": [
       "age              int64\n",
       "body_type       object\n",
       "diet            object\n",
       "drinks          object\n",
       "drugs           object\n",
       "education       object\n",
       "ethnicity       object\n",
       "height          object\n",
       "income           int64\n",
       "job             object\n",
       "last_online     object\n",
       "location        object\n",
       "offspring       object\n",
       "orientation     object\n",
       "pets            object\n",
       "religion        object\n",
       "sex             object\n",
       "sign            object\n",
       "smokes          object\n",
       "speaks          object\n",
       "status          object\n",
       "sign_cleaned    object\n",
       "dtype: object"
      ]
     },
     "execution_count": 169,
     "metadata": {},
     "output_type": "execute_result"
    }
   ],
   "source": [
    "# List dataframe data types\n",
    "profile_df1.dtypes"
   ]
  },
  {
   "cell_type": "code",
   "execution_count": 170,
   "id": "66ac01a4",
   "metadata": {},
   "outputs": [
    {
     "data": {
      "text/html": [
       "<div>\n",
       "<style scoped>\n",
       "    .dataframe tbody tr th:only-of-type {\n",
       "        vertical-align: middle;\n",
       "    }\n",
       "\n",
       "    .dataframe tbody tr th {\n",
       "        vertical-align: top;\n",
       "    }\n",
       "\n",
       "    .dataframe thead th {\n",
       "        text-align: right;\n",
       "    }\n",
       "</style>\n",
       "<table border=\"1\" class=\"dataframe\">\n",
       "  <thead>\n",
       "    <tr style=\"text-align: right;\">\n",
       "      <th></th>\n",
       "      <th>age</th>\n",
       "      <th>body_type</th>\n",
       "      <th>diet</th>\n",
       "      <th>drinks</th>\n",
       "      <th>drugs</th>\n",
       "      <th>education</th>\n",
       "      <th>ethnicity</th>\n",
       "      <th>height</th>\n",
       "      <th>income</th>\n",
       "      <th>job</th>\n",
       "      <th>orientation</th>\n",
       "      <th>religion</th>\n",
       "      <th>sex</th>\n",
       "      <th>smokes</th>\n",
       "      <th>status</th>\n",
       "    </tr>\n",
       "  </thead>\n",
       "  <tbody>\n",
       "    <tr>\n",
       "      <th>0</th>\n",
       "      <td>22</td>\n",
       "      <td>curvy</td>\n",
       "      <td>anything</td>\n",
       "      <td>rarely</td>\n",
       "      <td>drugs_no</td>\n",
       "      <td>noansweredu</td>\n",
       "      <td>asian</td>\n",
       "      <td>75.0</td>\n",
       "      <td>29592</td>\n",
       "      <td>transportation</td>\n",
       "      <td>straight</td>\n",
       "      <td>religious</td>\n",
       "      <td>m</td>\n",
       "      <td>rarely</td>\n",
       "      <td>single</td>\n",
       "    </tr>\n",
       "    <tr>\n",
       "      <th>1</th>\n",
       "      <td>35</td>\n",
       "      <td>average</td>\n",
       "      <td>anything</td>\n",
       "      <td>rarely</td>\n",
       "      <td>drugs_yes</td>\n",
       "      <td>college/university</td>\n",
       "      <td>white</td>\n",
       "      <td>70.0</td>\n",
       "      <td>48630</td>\n",
       "      <td>hospitality / travel</td>\n",
       "      <td>straight</td>\n",
       "      <td>religious</td>\n",
       "      <td>m</td>\n",
       "      <td>no</td>\n",
       "      <td>single</td>\n",
       "    </tr>\n",
       "    <tr>\n",
       "      <th>2</th>\n",
       "      <td>38</td>\n",
       "      <td>skinny</td>\n",
       "      <td>anything</td>\n",
       "      <td>rarely</td>\n",
       "      <td>noanswerdrugs</td>\n",
       "      <td>masters program</td>\n",
       "      <td>noanswerethnicity</td>\n",
       "      <td>68.0</td>\n",
       "      <td>60812</td>\n",
       "      <td>noanswerjob</td>\n",
       "      <td>straight</td>\n",
       "      <td>religious</td>\n",
       "      <td>m</td>\n",
       "      <td>no</td>\n",
       "      <td>available</td>\n",
       "    </tr>\n",
       "    <tr>\n",
       "      <th>3</th>\n",
       "      <td>23</td>\n",
       "      <td>skinny</td>\n",
       "      <td>vegetarian</td>\n",
       "      <td>rarely</td>\n",
       "      <td>noanswerdrugs</td>\n",
       "      <td>noansweredu</td>\n",
       "      <td>white</td>\n",
       "      <td>71.0</td>\n",
       "      <td>18578</td>\n",
       "      <td>student</td>\n",
       "      <td>straight</td>\n",
       "      <td>religious</td>\n",
       "      <td>m</td>\n",
       "      <td>no</td>\n",
       "      <td>single</td>\n",
       "    </tr>\n",
       "    <tr>\n",
       "      <th>4</th>\n",
       "      <td>29</td>\n",
       "      <td>athletic</td>\n",
       "      <td>noanswerdiet</td>\n",
       "      <td>rarely</td>\n",
       "      <td>drugs_no</td>\n",
       "      <td>college/university</td>\n",
       "      <td>asian</td>\n",
       "      <td>66.0</td>\n",
       "      <td>94691</td>\n",
       "      <td>artistic / musical / writer</td>\n",
       "      <td>straight</td>\n",
       "      <td>religious</td>\n",
       "      <td>m</td>\n",
       "      <td>no</td>\n",
       "      <td>single</td>\n",
       "    </tr>\n",
       "  </tbody>\n",
       "</table>\n",
       "</div>"
      ],
      "text/plain": [
       "   age body_type          diet  drinks          drugs           education  \\\n",
       "0   22     curvy      anything  rarely       drugs_no         noansweredu   \n",
       "1   35   average      anything  rarely      drugs_yes  college/university   \n",
       "2   38    skinny      anything  rarely  noanswerdrugs     masters program   \n",
       "3   23    skinny    vegetarian  rarely  noanswerdrugs         noansweredu   \n",
       "4   29  athletic  noanswerdiet  rarely       drugs_no  college/university   \n",
       "\n",
       "           ethnicity height  income                          job orientation  \\\n",
       "0              asian   75.0   29592               transportation    straight   \n",
       "1              white   70.0   48630         hospitality / travel    straight   \n",
       "2  noanswerethnicity   68.0   60812                  noanswerjob    straight   \n",
       "3              white   71.0   18578                      student    straight   \n",
       "4              asian   66.0   94691  artistic / musical / writer    straight   \n",
       "\n",
       "    religion sex  smokes     status  \n",
       "0  religious   m  rarely     single  \n",
       "1  religious   m      no     single  \n",
       "2  religious   m      no  available  \n",
       "3  religious   m      no     single  \n",
       "4  religious   m      no     single  "
      ]
     },
     "execution_count": 170,
     "metadata": {},
     "output_type": "execute_result"
    }
   ],
   "source": [
    "# Remove the CustomerID Column\n",
    "profile_clean = profile_df1.drop(columns=[\"last_online\",\"location\",\"offspring\",\"pets\",\"speaks\",\"sign\",\"sign_cleaned\"])\n",
    "profile_clean.head()"
   ]
  },
  {
   "cell_type": "code",
   "execution_count": 177,
   "id": "77c9f349",
   "metadata": {},
   "outputs": [
    {
     "name": "stdout",
     "output_type": "stream",
     "text": [
      "Column age has 0 null values\n",
      "Column body_type has 0 null values\n",
      "Column diet has 0 null values\n",
      "Column drinks has 0 null values\n",
      "Column drugs has 0 null values\n",
      "Column education has 0 null values\n",
      "Column ethnicity has 0 null values\n",
      "Column height has 0 null values\n",
      "Column income has 0 null values\n",
      "Column job has 0 null values\n",
      "Column orientation has 0 null values\n",
      "Column religion has 0 null values\n",
      "Column sex has 0 null values\n",
      "Column smokes has 0 null values\n",
      "Column status has 0 null values\n"
     ]
    }
   ],
   "source": [
    "# Find null values\n",
    "for column in profile_clean.columns:\n",
    "    print(f\"Column {column} has {profile_clean[column].isnull().sum()} null values\")\n"
   ]
  },
  {
   "cell_type": "code",
   "execution_count": 178,
   "id": "3759c4ea",
   "metadata": {},
   "outputs": [
    {
     "name": "stdout",
     "output_type": "stream",
     "text": [
      "Duplicate entries: 1\n"
     ]
    }
   ],
   "source": [
    "# Find duplicate entries\n",
    "print(f\"Duplicate entries: {profile_clean.duplicated().sum()}\")\n"
   ]
  },
  {
   "cell_type": "code",
   "execution_count": 179,
   "id": "1cae16ec",
   "metadata": {},
   "outputs": [
    {
     "data": {
      "text/html": [
       "<div>\n",
       "<style scoped>\n",
       "    .dataframe tbody tr th:only-of-type {\n",
       "        vertical-align: middle;\n",
       "    }\n",
       "\n",
       "    .dataframe tbody tr th {\n",
       "        vertical-align: top;\n",
       "    }\n",
       "\n",
       "    .dataframe thead th {\n",
       "        text-align: right;\n",
       "    }\n",
       "</style>\n",
       "<table border=\"1\" class=\"dataframe\">\n",
       "  <thead>\n",
       "    <tr style=\"text-align: right;\">\n",
       "      <th></th>\n",
       "      <th>age</th>\n",
       "      <th>body_type</th>\n",
       "      <th>diet</th>\n",
       "      <th>drinks</th>\n",
       "      <th>drugs</th>\n",
       "      <th>education</th>\n",
       "      <th>ethnicity</th>\n",
       "      <th>height</th>\n",
       "      <th>income</th>\n",
       "      <th>job</th>\n",
       "      <th>orientation</th>\n",
       "      <th>religion</th>\n",
       "      <th>sex</th>\n",
       "      <th>smokes</th>\n",
       "      <th>status</th>\n",
       "    </tr>\n",
       "  </thead>\n",
       "  <tbody>\n",
       "    <tr>\n",
       "      <th>0</th>\n",
       "      <td>22</td>\n",
       "      <td>curvy</td>\n",
       "      <td>anything</td>\n",
       "      <td>rarely</td>\n",
       "      <td>drugs_no</td>\n",
       "      <td>noansweredu</td>\n",
       "      <td>asian</td>\n",
       "      <td>75.0</td>\n",
       "      <td>29592</td>\n",
       "      <td>transportation</td>\n",
       "      <td>straight</td>\n",
       "      <td>religious</td>\n",
       "      <td>m</td>\n",
       "      <td>rarely</td>\n",
       "      <td>single</td>\n",
       "    </tr>\n",
       "    <tr>\n",
       "      <th>1</th>\n",
       "      <td>35</td>\n",
       "      <td>average</td>\n",
       "      <td>anything</td>\n",
       "      <td>rarely</td>\n",
       "      <td>drugs_yes</td>\n",
       "      <td>college/university</td>\n",
       "      <td>white</td>\n",
       "      <td>70.0</td>\n",
       "      <td>48630</td>\n",
       "      <td>hospitality / travel</td>\n",
       "      <td>straight</td>\n",
       "      <td>religious</td>\n",
       "      <td>m</td>\n",
       "      <td>no</td>\n",
       "      <td>single</td>\n",
       "    </tr>\n",
       "    <tr>\n",
       "      <th>2</th>\n",
       "      <td>38</td>\n",
       "      <td>skinny</td>\n",
       "      <td>anything</td>\n",
       "      <td>rarely</td>\n",
       "      <td>noanswerdrugs</td>\n",
       "      <td>masters program</td>\n",
       "      <td>noanswerethnicity</td>\n",
       "      <td>68.0</td>\n",
       "      <td>60812</td>\n",
       "      <td>noanswerjob</td>\n",
       "      <td>straight</td>\n",
       "      <td>religious</td>\n",
       "      <td>m</td>\n",
       "      <td>no</td>\n",
       "      <td>available</td>\n",
       "    </tr>\n",
       "    <tr>\n",
       "      <th>3</th>\n",
       "      <td>23</td>\n",
       "      <td>skinny</td>\n",
       "      <td>vegetarian</td>\n",
       "      <td>rarely</td>\n",
       "      <td>noanswerdrugs</td>\n",
       "      <td>noansweredu</td>\n",
       "      <td>white</td>\n",
       "      <td>71.0</td>\n",
       "      <td>18578</td>\n",
       "      <td>student</td>\n",
       "      <td>straight</td>\n",
       "      <td>religious</td>\n",
       "      <td>m</td>\n",
       "      <td>no</td>\n",
       "      <td>single</td>\n",
       "    </tr>\n",
       "    <tr>\n",
       "      <th>4</th>\n",
       "      <td>29</td>\n",
       "      <td>athletic</td>\n",
       "      <td>noanswerdiet</td>\n",
       "      <td>rarely</td>\n",
       "      <td>drugs_no</td>\n",
       "      <td>college/university</td>\n",
       "      <td>asian</td>\n",
       "      <td>66.0</td>\n",
       "      <td>94691</td>\n",
       "      <td>artistic / musical / writer</td>\n",
       "      <td>straight</td>\n",
       "      <td>religious</td>\n",
       "      <td>m</td>\n",
       "      <td>no</td>\n",
       "      <td>single</td>\n",
       "    </tr>\n",
       "    <tr>\n",
       "      <th>...</th>\n",
       "      <td>...</td>\n",
       "      <td>...</td>\n",
       "      <td>...</td>\n",
       "      <td>...</td>\n",
       "      <td>...</td>\n",
       "      <td>...</td>\n",
       "      <td>...</td>\n",
       "      <td>...</td>\n",
       "      <td>...</td>\n",
       "      <td>...</td>\n",
       "      <td>...</td>\n",
       "      <td>...</td>\n",
       "      <td>...</td>\n",
       "      <td>...</td>\n",
       "      <td>...</td>\n",
       "    </tr>\n",
       "    <tr>\n",
       "      <th>59941</th>\n",
       "      <td>59</td>\n",
       "      <td>noanswerbodytype</td>\n",
       "      <td>noanswerdiet</td>\n",
       "      <td>rarely</td>\n",
       "      <td>drugs_no</td>\n",
       "      <td>college/university</td>\n",
       "      <td>noanswerethnicity</td>\n",
       "      <td>62.0</td>\n",
       "      <td>16612</td>\n",
       "      <td>sales / marketing / biz dev</td>\n",
       "      <td>straight</td>\n",
       "      <td>religious</td>\n",
       "      <td>f</td>\n",
       "      <td>no</td>\n",
       "      <td>single</td>\n",
       "    </tr>\n",
       "    <tr>\n",
       "      <th>59942</th>\n",
       "      <td>24</td>\n",
       "      <td>fit</td>\n",
       "      <td>anything</td>\n",
       "      <td>rarely</td>\n",
       "      <td>drugs_yes</td>\n",
       "      <td>noansweredu</td>\n",
       "      <td>white</td>\n",
       "      <td>72.0</td>\n",
       "      <td>118254</td>\n",
       "      <td>entertainment / media</td>\n",
       "      <td>straight</td>\n",
       "      <td>agnostic</td>\n",
       "      <td>m</td>\n",
       "      <td>no</td>\n",
       "      <td>single</td>\n",
       "    </tr>\n",
       "    <tr>\n",
       "      <th>59943</th>\n",
       "      <td>42</td>\n",
       "      <td>average</td>\n",
       "      <td>anything</td>\n",
       "      <td>drinks_no</td>\n",
       "      <td>drugs_no</td>\n",
       "      <td>masters program</td>\n",
       "      <td>asian</td>\n",
       "      <td>71.0</td>\n",
       "      <td>42318</td>\n",
       "      <td>construction / craftsmanship</td>\n",
       "      <td>straight</td>\n",
       "      <td>religious</td>\n",
       "      <td>m</td>\n",
       "      <td>no</td>\n",
       "      <td>single</td>\n",
       "    </tr>\n",
       "    <tr>\n",
       "      <th>59944</th>\n",
       "      <td>27</td>\n",
       "      <td>athletic</td>\n",
       "      <td>anything</td>\n",
       "      <td>rarely</td>\n",
       "      <td>rarely</td>\n",
       "      <td>noansweredu</td>\n",
       "      <td>asian</td>\n",
       "      <td>73.0</td>\n",
       "      <td>218886</td>\n",
       "      <td>medicine / health</td>\n",
       "      <td>straight</td>\n",
       "      <td>religious</td>\n",
       "      <td>m</td>\n",
       "      <td>rarely</td>\n",
       "      <td>single</td>\n",
       "    </tr>\n",
       "    <tr>\n",
       "      <th>59945</th>\n",
       "      <td>39</td>\n",
       "      <td>average</td>\n",
       "      <td>noanswerdiet</td>\n",
       "      <td>rarely</td>\n",
       "      <td>noanswerdrugs</td>\n",
       "      <td>masters program</td>\n",
       "      <td>white</td>\n",
       "      <td>68.0</td>\n",
       "      <td>100804</td>\n",
       "      <td>medicine / health</td>\n",
       "      <td>gay</td>\n",
       "      <td>religious</td>\n",
       "      <td>m</td>\n",
       "      <td>rarely</td>\n",
       "      <td>single</td>\n",
       "    </tr>\n",
       "  </tbody>\n",
       "</table>\n",
       "<p>59945 rows × 15 columns</p>\n",
       "</div>"
      ],
      "text/plain": [
       "       age         body_type          diet     drinks          drugs  \\\n",
       "0       22             curvy      anything     rarely       drugs_no   \n",
       "1       35           average      anything     rarely      drugs_yes   \n",
       "2       38            skinny      anything     rarely  noanswerdrugs   \n",
       "3       23            skinny    vegetarian     rarely  noanswerdrugs   \n",
       "4       29          athletic  noanswerdiet     rarely       drugs_no   \n",
       "...    ...               ...           ...        ...            ...   \n",
       "59941   59  noanswerbodytype  noanswerdiet     rarely       drugs_no   \n",
       "59942   24               fit      anything     rarely      drugs_yes   \n",
       "59943   42           average      anything  drinks_no       drugs_no   \n",
       "59944   27          athletic      anything     rarely         rarely   \n",
       "59945   39           average  noanswerdiet     rarely  noanswerdrugs   \n",
       "\n",
       "                education          ethnicity height  income  \\\n",
       "0             noansweredu              asian   75.0   29592   \n",
       "1      college/university              white   70.0   48630   \n",
       "2         masters program  noanswerethnicity   68.0   60812   \n",
       "3             noansweredu              white   71.0   18578   \n",
       "4      college/university              asian   66.0   94691   \n",
       "...                   ...                ...    ...     ...   \n",
       "59941  college/university  noanswerethnicity   62.0   16612   \n",
       "59942         noansweredu              white   72.0  118254   \n",
       "59943     masters program              asian   71.0   42318   \n",
       "59944         noansweredu              asian   73.0  218886   \n",
       "59945     masters program              white   68.0  100804   \n",
       "\n",
       "                                job orientation   religion sex  smokes  \\\n",
       "0                    transportation    straight  religious   m  rarely   \n",
       "1              hospitality / travel    straight  religious   m      no   \n",
       "2                       noanswerjob    straight  religious   m      no   \n",
       "3                           student    straight  religious   m      no   \n",
       "4       artistic / musical / writer    straight  religious   m      no   \n",
       "...                             ...         ...        ...  ..     ...   \n",
       "59941   sales / marketing / biz dev    straight  religious   f      no   \n",
       "59942         entertainment / media    straight   agnostic   m      no   \n",
       "59943  construction / craftsmanship    straight  religious   m      no   \n",
       "59944             medicine / health    straight  religious   m  rarely   \n",
       "59945             medicine / health         gay  religious   m  rarely   \n",
       "\n",
       "          status  \n",
       "0         single  \n",
       "1         single  \n",
       "2      available  \n",
       "3         single  \n",
       "4         single  \n",
       "...          ...  \n",
       "59941     single  \n",
       "59942     single  \n",
       "59943     single  \n",
       "59944     single  \n",
       "59945     single  \n",
       "\n",
       "[59945 rows x 15 columns]"
      ]
     },
     "execution_count": 179,
     "metadata": {},
     "output_type": "execute_result"
    }
   ],
   "source": [
    "profile_clean1=profile_clean.drop_duplicates()\n",
    "profile_clean1"
   ]
  },
  {
   "cell_type": "code",
   "execution_count": 180,
   "id": "46c7457a",
   "metadata": {},
   "outputs": [],
   "source": [
    "# Saving cleaned data\n",
    "from pathlib import Path\n",
    "file_path = Path(\"reworked_profile_clean.csv\")\n",
    "profile_clean1.to_csv(file_path, index=False)"
   ]
  },
  {
   "cell_type": "code",
   "execution_count": null,
   "id": "8af3e29e",
   "metadata": {},
   "outputs": [],
   "source": []
  }
 ],
 "metadata": {
  "kernelspec": {
   "display_name": "Python 3 (ipykernel)",
   "language": "python",
   "name": "python3"
  },
  "language_info": {
   "codemirror_mode": {
    "name": "ipython",
    "version": 3
   },
   "file_extension": ".py",
   "mimetype": "text/x-python",
   "name": "python",
   "nbconvert_exporter": "python",
   "pygments_lexer": "ipython3",
   "version": "3.9.7"
  }
 },
 "nbformat": 4,
 "nbformat_minor": 5
}
